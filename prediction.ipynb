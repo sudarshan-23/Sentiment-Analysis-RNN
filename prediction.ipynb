{
  "nbformat": 4,
  "nbformat_minor": 0,
  "metadata": {
    "colab": {
      "provenance": [],
      "gpuType": "T4"
    },
    "kernelspec": {
      "name": "python3",
      "display_name": "Python 3"
    },
    "language_info": {
      "name": "python"
    },
    "accelerator": "GPU"
  },
  "cells": [
    {
      "cell_type": "code",
      "execution_count": null,
      "metadata": {
        "colab": {
          "base_uri": "https://localhost:8080/"
        },
        "id": "4AAzhwg9TsEj",
        "outputId": "b24fc6b5-8adc-4fe7-c2e8-def26a873a8f"
      },
      "outputs": [
        {
          "output_type": "stream",
          "name": "stdout",
          "text": [
            "Requirement already satisfied: tensorflow==2.15.0 in /usr/local/lib/python3.10/dist-packages (2.15.0)\n",
            "Requirement already satisfied: absl-py>=1.0.0 in /usr/local/lib/python3.10/dist-packages (from tensorflow==2.15.0) (1.4.0)\n",
            "Requirement already satisfied: astunparse>=1.6.0 in /usr/local/lib/python3.10/dist-packages (from tensorflow==2.15.0) (1.6.3)\n",
            "Requirement already satisfied: flatbuffers>=23.5.26 in /usr/local/lib/python3.10/dist-packages (from tensorflow==2.15.0) (24.3.25)\n",
            "Requirement already satisfied: gast!=0.5.0,!=0.5.1,!=0.5.2,>=0.2.1 in /usr/local/lib/python3.10/dist-packages (from tensorflow==2.15.0) (0.4.0)\n",
            "Requirement already satisfied: google-pasta>=0.1.1 in /usr/local/lib/python3.10/dist-packages (from tensorflow==2.15.0) (0.2.0)\n",
            "Requirement already satisfied: h5py>=2.9.0 in /usr/local/lib/python3.10/dist-packages (from tensorflow==2.15.0) (3.11.0)\n",
            "Requirement already satisfied: libclang>=13.0.0 in /usr/local/lib/python3.10/dist-packages (from tensorflow==2.15.0) (18.1.1)\n",
            "Requirement already satisfied: ml-dtypes~=0.2.0 in /usr/local/lib/python3.10/dist-packages (from tensorflow==2.15.0) (0.2.0)\n",
            "Requirement already satisfied: numpy<2.0.0,>=1.23.5 in /usr/local/lib/python3.10/dist-packages (from tensorflow==2.15.0) (1.24.3)\n",
            "Requirement already satisfied: opt-einsum>=2.3.2 in /usr/local/lib/python3.10/dist-packages (from tensorflow==2.15.0) (3.3.0)\n",
            "Requirement already satisfied: packaging in /usr/local/lib/python3.10/dist-packages (from tensorflow==2.15.0) (24.1)\n",
            "Requirement already satisfied: protobuf!=4.21.0,!=4.21.1,!=4.21.2,!=4.21.3,!=4.21.4,!=4.21.5,<5.0.0dev,>=3.20.3 in /usr/local/lib/python3.10/dist-packages (from tensorflow==2.15.0) (3.20.3)\n",
            "Requirement already satisfied: setuptools in /usr/local/lib/python3.10/dist-packages (from tensorflow==2.15.0) (71.0.4)\n",
            "Requirement already satisfied: six>=1.12.0 in /usr/local/lib/python3.10/dist-packages (from tensorflow==2.15.0) (1.16.0)\n",
            "Requirement already satisfied: termcolor>=1.1.0 in /usr/local/lib/python3.10/dist-packages (from tensorflow==2.15.0) (2.4.0)\n",
            "Requirement already satisfied: typing-extensions>=3.6.6 in /usr/local/lib/python3.10/dist-packages (from tensorflow==2.15.0) (4.5.0)\n",
            "Requirement already satisfied: wrapt<1.15,>=1.11.0 in /usr/local/lib/python3.10/dist-packages (from tensorflow==2.15.0) (1.14.1)\n",
            "Requirement already satisfied: tensorflow-io-gcs-filesystem>=0.23.1 in /usr/local/lib/python3.10/dist-packages (from tensorflow==2.15.0) (0.37.1)\n",
            "Requirement already satisfied: grpcio<2.0,>=1.24.3 in /usr/local/lib/python3.10/dist-packages (from tensorflow==2.15.0) (1.64.1)\n",
            "Requirement already satisfied: tensorboard<2.16,>=2.15 in /usr/local/lib/python3.10/dist-packages (from tensorflow==2.15.0) (2.15.2)\n",
            "Requirement already satisfied: tensorflow-estimator<2.16,>=2.15.0 in /usr/local/lib/python3.10/dist-packages (from tensorflow==2.15.0) (2.15.0)\n",
            "Requirement already satisfied: keras<2.16,>=2.15.0 in /usr/local/lib/python3.10/dist-packages (from tensorflow==2.15.0) (2.15.0)\n",
            "Requirement already satisfied: wheel<1.0,>=0.23.0 in /usr/local/lib/python3.10/dist-packages (from astunparse>=1.6.0->tensorflow==2.15.0) (0.44.0)\n",
            "Requirement already satisfied: google-auth<3,>=1.6.3 in /usr/local/lib/python3.10/dist-packages (from tensorboard<2.16,>=2.15->tensorflow==2.15.0) (2.27.0)\n",
            "Requirement already satisfied: google-auth-oauthlib<2,>=0.5 in /usr/local/lib/python3.10/dist-packages (from tensorboard<2.16,>=2.15->tensorflow==2.15.0) (1.0.0)\n",
            "Requirement already satisfied: markdown>=2.6.8 in /usr/local/lib/python3.10/dist-packages (from tensorboard<2.16,>=2.15->tensorflow==2.15.0) (3.6)\n",
            "Requirement already satisfied: requests<3,>=2.21.0 in /usr/local/lib/python3.10/dist-packages (from tensorboard<2.16,>=2.15->tensorflow==2.15.0) (2.32.3)\n",
            "Requirement already satisfied: tensorboard-data-server<0.8.0,>=0.7.0 in /usr/local/lib/python3.10/dist-packages (from tensorboard<2.16,>=2.15->tensorflow==2.15.0) (0.7.2)\n",
            "Requirement already satisfied: werkzeug>=1.0.1 in /usr/local/lib/python3.10/dist-packages (from tensorboard<2.16,>=2.15->tensorflow==2.15.0) (3.0.3)\n",
            "Requirement already satisfied: cachetools<6.0,>=2.0.0 in /usr/local/lib/python3.10/dist-packages (from google-auth<3,>=1.6.3->tensorboard<2.16,>=2.15->tensorflow==2.15.0) (5.4.0)\n",
            "Requirement already satisfied: pyasn1-modules>=0.2.1 in /usr/local/lib/python3.10/dist-packages (from google-auth<3,>=1.6.3->tensorboard<2.16,>=2.15->tensorflow==2.15.0) (0.4.0)\n",
            "Requirement already satisfied: rsa<5,>=3.1.4 in /usr/local/lib/python3.10/dist-packages (from google-auth<3,>=1.6.3->tensorboard<2.16,>=2.15->tensorflow==2.15.0) (4.9)\n",
            "Requirement already satisfied: requests-oauthlib>=0.7.0 in /usr/local/lib/python3.10/dist-packages (from google-auth-oauthlib<2,>=0.5->tensorboard<2.16,>=2.15->tensorflow==2.15.0) (1.3.1)\n",
            "Requirement already satisfied: charset-normalizer<4,>=2 in /usr/local/lib/python3.10/dist-packages (from requests<3,>=2.21.0->tensorboard<2.16,>=2.15->tensorflow==2.15.0) (3.3.2)\n",
            "Requirement already satisfied: idna<4,>=2.5 in /usr/local/lib/python3.10/dist-packages (from requests<3,>=2.21.0->tensorboard<2.16,>=2.15->tensorflow==2.15.0) (3.7)\n",
            "Requirement already satisfied: urllib3<3,>=1.21.1 in /usr/local/lib/python3.10/dist-packages (from requests<3,>=2.21.0->tensorboard<2.16,>=2.15->tensorflow==2.15.0) (2.0.7)\n",
            "Requirement already satisfied: certifi>=2017.4.17 in /usr/local/lib/python3.10/dist-packages (from requests<3,>=2.21.0->tensorboard<2.16,>=2.15->tensorflow==2.15.0) (2024.7.4)\n",
            "Requirement already satisfied: MarkupSafe>=2.1.1 in /usr/local/lib/python3.10/dist-packages (from werkzeug>=1.0.1->tensorboard<2.16,>=2.15->tensorflow==2.15.0) (2.1.5)\n",
            "Requirement already satisfied: pyasn1<0.7.0,>=0.4.6 in /usr/local/lib/python3.10/dist-packages (from pyasn1-modules>=0.2.1->google-auth<3,>=1.6.3->tensorboard<2.16,>=2.15->tensorflow==2.15.0) (0.6.0)\n",
            "Requirement already satisfied: oauthlib>=3.0.0 in /usr/local/lib/python3.10/dist-packages (from requests-oauthlib>=0.7.0->google-auth-oauthlib<2,>=0.5->tensorboard<2.16,>=2.15->tensorflow==2.15.0) (3.2.2)\n"
          ]
        }
      ],
      "source": [
        "!pip install tensorflow==2.15.0"
      ]
    },
    {
      "cell_type": "code",
      "source": [
        "import numpy as np\n",
        "import tensorflow as tf\n",
        "from tensorflow import keras\n",
        "from tensorflow.keras.models import load_model\n",
        "from tensorflow.keras.datasets import imdb\n",
        "from tensorflow.keras.preprocessing import sequence\n"
      ],
      "metadata": {
        "id": "zG70htE7VYWI"
      },
      "execution_count": null,
      "outputs": []
    },
    {
      "cell_type": "code",
      "source": [
        "# load the imdb dataset word index\n",
        "word_index = imdb.get_word_index()\n",
        "reverse_word_index = {value:key for (key,value) in word_index.items()}"
      ],
      "metadata": {
        "id": "z_sN4MILV7JZ"
      },
      "execution_count": null,
      "outputs": []
    },
    {
      "cell_type": "code",
      "source": [
        "#load the pretrained model with relu activation\n",
        "model = load_model('rnn_imdb.h5')\n",
        "model.summary()"
      ],
      "metadata": {
        "colab": {
          "base_uri": "https://localhost:8080/"
        },
        "id": "8vBrwyaoV7HO",
        "outputId": "7d6d5021-d8bb-49f0-fc3d-66bf63de2dc7"
      },
      "execution_count": null,
      "outputs": [
        {
          "output_type": "stream",
          "name": "stdout",
          "text": [
            "Model: \"sequential_1\"\n",
            "_________________________________________________________________\n",
            " Layer (type)                Output Shape              Param #   \n",
            "=================================================================\n",
            " embedding_1 (Embedding)     (None, 500, 128)          1280000   \n",
            "                                                                 \n",
            " simple_rnn_1 (SimpleRNN)    (None, 128)               32896     \n",
            "                                                                 \n",
            " dense_1 (Dense)             (None, 1)                 129       \n",
            "                                                                 \n",
            "=================================================================\n",
            "Total params: 1313025 (5.01 MB)\n",
            "Trainable params: 1313025 (5.01 MB)\n",
            "Non-trainable params: 0 (0.00 Byte)\n",
            "_________________________________________________________________\n"
          ]
        }
      ]
    },
    {
      "cell_type": "code",
      "source": [
        "model.get_weights()"
      ],
      "metadata": {
        "colab": {
          "base_uri": "https://localhost:8080/"
        },
        "id": "M9HJquIAV7DO",
        "outputId": "b6c3b3fa-5d82-4f93-a80e-abeb1576d5c7"
      },
      "execution_count": null,
      "outputs": [
        {
          "output_type": "execute_result",
          "data": {
            "text/plain": [
              "[array([[ 1.44275315e-02,  2.37009246e-02,  5.40878042e-04, ...,\n",
              "          5.75861484e-02,  1.99039243e-02,  7.17014493e-03],\n",
              "        [-4.04333659e-02, -1.83703392e-04, -9.90647636e-03, ...,\n",
              "          1.97149366e-02,  3.94348130e-02,  1.67599432e-02],\n",
              "        [-2.40489859e-02,  5.78081347e-02, -3.26602571e-02, ...,\n",
              "         -3.28533761e-02, -1.40604582e-02, -3.88843054e-03],\n",
              "        ...,\n",
              "        [ 7.72673488e-02,  6.58690482e-02,  2.20908597e-02, ...,\n",
              "         -1.26394063e-01, -1.37763575e-01, -6.93536922e-02],\n",
              "        [-3.40469815e-02, -3.95121388e-02,  3.60616110e-02, ...,\n",
              "          6.68580318e-03,  1.85351685e-01,  8.11671913e-02],\n",
              "        [ 2.07799450e-01,  1.51697129e-01, -3.94214392e-02, ...,\n",
              "         -1.73990637e-01, -2.09738418e-01, -1.78781018e-01]], dtype=float32),\n",
              " array([[-0.10659717, -0.16260988,  0.03264614, ...,  0.08447362,\n",
              "          0.11285105, -0.10928565],\n",
              "        [ 0.1791249 ,  0.1868399 ,  0.02637979, ...,  0.00148802,\n",
              "         -0.09154746, -0.02552991],\n",
              "        [ 0.02517649, -0.03583416, -0.02051697, ...,  0.08701579,\n",
              "         -0.05165218, -0.03444907],\n",
              "        ...,\n",
              "        [-0.09910845, -0.07521018, -0.05371204, ..., -0.06438731,\n",
              "         -0.04448426,  0.05621817],\n",
              "        [ 0.00840576, -0.03046658, -0.19917066, ...,  0.13770938,\n",
              "          0.0484941 , -0.0800582 ],\n",
              "        [-0.1635923 ,  0.05782623,  0.09101933, ...,  0.10092887,\n",
              "          0.08370699, -0.04440961]], dtype=float32),\n",
              " array([[-0.24998327, -0.06940961,  0.09642918, ..., -0.3443467 ,\n",
              "          0.0221197 ,  0.07487537],\n",
              "        [ 0.0139373 ,  0.0517526 , -0.00475093, ..., -0.00176795,\n",
              "          0.0256262 , -0.03525155],\n",
              "        [-0.04870773,  0.04089756, -0.01641713, ...,  0.07348964,\n",
              "         -0.1168711 , -0.0973269 ],\n",
              "        ...,\n",
              "        [-0.284059  ,  0.05391305,  0.05816888, ..., -0.0058533 ,\n",
              "          0.09243433, -0.05436706],\n",
              "        [-0.02347428, -0.16997726,  0.12585194, ..., -0.11322954,\n",
              "          0.03642657,  0.0373938 ],\n",
              "        [-0.04151582, -0.04991046, -0.05513771, ..., -0.00416256,\n",
              "         -0.22235654,  0.0215884 ]], dtype=float32),\n",
              " array([-0.04194687, -0.01909624, -0.02145167, -0.00459189,  0.02331547,\n",
              "         0.00185493, -0.05015014, -0.02794307, -0.00980755,  0.01368431,\n",
              "        -0.01756243, -0.03343845, -0.05052777, -0.0308564 , -0.05725056,\n",
              "        -0.04647188, -0.07959922, -0.00016237, -0.07492458,  0.04656847,\n",
              "        -0.04061571, -0.05530458, -0.01072154, -0.05923986, -0.0435808 ,\n",
              "        -0.00508047, -0.01496849, -0.05907631, -0.00172736, -0.06801185,\n",
              "        -0.02075727, -0.02532695, -0.02285231, -0.03776648, -0.02968652,\n",
              "        -0.02508512, -0.02936592, -0.05405335,  0.03124148, -0.05911432,\n",
              "        -0.03144678, -0.05162299,  0.08065696,  0.02263805, -0.00833213,\n",
              "        -0.0269149 , -0.0362648 , -0.03737617, -0.02180746,  0.00206807,\n",
              "        -0.04172015, -0.00018896, -0.06581138, -0.02901489, -0.01632893,\n",
              "         0.03849335, -0.07284023,  0.01230298, -0.00124195, -0.03038477,\n",
              "         0.0185671 , -0.05032526, -0.07346702, -0.0068252 ,  0.01328604,\n",
              "         0.06049921, -0.01274969,  0.01312974, -0.07161935, -0.05066362,\n",
              "         0.01124579, -0.05814723, -0.01700342,  0.03981201,  0.03079322,\n",
              "        -0.00457125, -0.02744973,  0.01046773, -0.01185277,  0.00436392,\n",
              "        -0.00910791, -0.07724616, -0.030125  , -0.0351454 ,  0.02586089,\n",
              "        -0.0090262 , -0.05322389, -0.01917429, -0.01075133, -0.03198094,\n",
              "         0.02879523, -0.04330033, -0.00808416, -0.04619167, -0.06271371,\n",
              "        -0.00974258, -0.04892692, -0.02213596, -0.02835212, -0.01371737,\n",
              "        -0.01442245, -0.02233835, -0.02895987, -0.0157155 , -0.03014852,\n",
              "        -0.00887017, -0.051688  ,  0.00270265, -0.05162487, -0.0223989 ,\n",
              "        -0.04901644, -0.00223944,  0.04242437, -0.01875693,  0.01855302,\n",
              "        -0.02458737, -0.03699784, -0.00280374,  0.0312016 , -0.02565376,\n",
              "        -0.03537646, -0.04945372, -0.0063685 , -0.05736282, -0.06946766,\n",
              "        -0.04926289, -0.04878822, -0.03618973], dtype=float32),\n",
              " array([[ 0.26939932],\n",
              "        [-0.1455004 ],\n",
              "        [-0.09668205],\n",
              "        [-0.08192125],\n",
              "        [ 0.14402765],\n",
              "        [ 0.00113474],\n",
              "        [-0.20395342],\n",
              "        [-0.03565308],\n",
              "        [-0.04618847],\n",
              "        [-0.09743103],\n",
              "        [ 0.00991375],\n",
              "        [-0.17472744],\n",
              "        [-0.08942144],\n",
              "        [ 0.11603246],\n",
              "        [-0.05949497],\n",
              "        [ 0.0390292 ],\n",
              "        [-0.04241729],\n",
              "        [-0.10342342],\n",
              "        [-0.03135456],\n",
              "        [ 0.34701934],\n",
              "        [-0.20102488],\n",
              "        [-0.2521242 ],\n",
              "        [ 0.28471524],\n",
              "        [-0.00176089],\n",
              "        [ 0.09039921],\n",
              "        [-0.25676048],\n",
              "        [-0.05614301],\n",
              "        [ 0.11401922],\n",
              "        [ 0.09060513],\n",
              "        [-0.05816662],\n",
              "        [ 0.22831912],\n",
              "        [ 0.13933392],\n",
              "        [-0.32554895],\n",
              "        [-0.04801996],\n",
              "        [ 0.18128411],\n",
              "        [ 0.08353236],\n",
              "        [-0.08706114],\n",
              "        [-0.18055283],\n",
              "        [ 0.20470104],\n",
              "        [-0.15162757],\n",
              "        [ 0.07486772],\n",
              "        [-0.08241377],\n",
              "        [-0.09302872],\n",
              "        [-0.181123  ],\n",
              "        [ 0.10121283],\n",
              "        [-0.10539334],\n",
              "        [-0.22435924],\n",
              "        [-0.10830135],\n",
              "        [ 0.01626616],\n",
              "        [ 0.10471658],\n",
              "        [-0.20493622],\n",
              "        [-0.00524267],\n",
              "        [ 0.0509412 ],\n",
              "        [ 0.04655906],\n",
              "        [ 0.12850322],\n",
              "        [-0.23692746],\n",
              "        [ 0.25182444],\n",
              "        [-0.18873659],\n",
              "        [ 0.16536993],\n",
              "        [-0.09756908],\n",
              "        [ 0.01722538],\n",
              "        [-0.03663852],\n",
              "        [ 0.23699915],\n",
              "        [-0.17389905],\n",
              "        [-0.05201066],\n",
              "        [ 0.4967948 ],\n",
              "        [ 0.23799971],\n",
              "        [-0.00252053],\n",
              "        [-0.15417708],\n",
              "        [-0.0811163 ],\n",
              "        [-0.16605131],\n",
              "        [ 0.00158029],\n",
              "        [ 0.08169083],\n",
              "        [-0.04909967],\n",
              "        [ 0.31169885],\n",
              "        [-0.34811118],\n",
              "        [ 0.08866818],\n",
              "        [ 0.03228223],\n",
              "        [-0.03342499],\n",
              "        [-0.13296206],\n",
              "        [-0.21392044],\n",
              "        [ 0.00187339],\n",
              "        [ 0.90684277],\n",
              "        [-0.25389266],\n",
              "        [ 0.03150912],\n",
              "        [-0.3199355 ],\n",
              "        [-0.1827396 ],\n",
              "        [-0.01701769],\n",
              "        [ 0.09555233],\n",
              "        [-0.27365124],\n",
              "        [-0.09051961],\n",
              "        [ 0.4254177 ],\n",
              "        [-0.05855427],\n",
              "        [-0.3566171 ],\n",
              "        [-0.3984181 ],\n",
              "        [-0.21059604],\n",
              "        [ 0.06561206],\n",
              "        [ 0.00281725],\n",
              "        [-0.0196505 ],\n",
              "        [ 0.5408838 ],\n",
              "        [ 0.05058015],\n",
              "        [-0.02708423],\n",
              "        [-0.16156062],\n",
              "        [ 0.49357036],\n",
              "        [ 0.16413337],\n",
              "        [-0.1344729 ],\n",
              "        [-0.09533952],\n",
              "        [-0.06004555],\n",
              "        [-0.10186879],\n",
              "        [-0.06397365],\n",
              "        [-0.168005  ],\n",
              "        [ 0.0931164 ],\n",
              "        [ 0.00929115],\n",
              "        [ 0.00558061],\n",
              "        [ 0.20147543],\n",
              "        [ 0.03680085],\n",
              "        [ 0.08483274],\n",
              "        [-0.07615218],\n",
              "        [-0.09281748],\n",
              "        [-0.17900684],\n",
              "        [ 0.25845137],\n",
              "        [-0.11288919],\n",
              "        [ 0.04945877],\n",
              "        [-0.05862519],\n",
              "        [ 0.22147566],\n",
              "        [-0.18932086],\n",
              "        [ 0.06153586],\n",
              "        [-0.041381  ]], dtype=float32),\n",
              " array([-0.6786668], dtype=float32)]"
            ]
          },
          "metadata": {},
          "execution_count": 5
        }
      ]
    },
    {
      "cell_type": "code",
      "source": [
        "# Function to decode reviews\n",
        "def decode_review(encoded_review):\n",
        "    return ' '.join([reverse_word_index.get(i-3,'?') for i in encoded_review])\n",
        "\n",
        "# Function to preprocess user input\n",
        "def preprocess_text(text):\n",
        "  words = text.lower().split()\n",
        "  encoded_review = [word_index.get(word,2) + 3 for word in words]\n",
        "  padded_review = sequence.pad_sequences([encoded_review],maxlen=500)\n",
        "  return padded_review\n"
      ],
      "metadata": {
        "id": "fSGQ-vdJW4bm"
      },
      "execution_count": null,
      "outputs": []
    },
    {
      "cell_type": "code",
      "source": [
        "# Prediction function\n",
        "def predict_sentiment(review):\n",
        "  preprocessed_input = preprocess_text(review)\n",
        "  prediction = model.predict(preprocessed_input)\n",
        "  sentiment = 'positive' if prediction[0][0] > 0.5 else 'negative'\n",
        "  return sentiment,prediction[0][0]"
      ],
      "metadata": {
        "id": "Msyiool2YYYN"
      },
      "execution_count": null,
      "outputs": []
    },
    {
      "cell_type": "code",
      "source": [
        "# Example review for prediction\n",
        "#example_review = \"I wanted to like this movie. I really did. But the thing is there is absolutely NOTHING to like about it lol. It's not funny, the acting is horrible, the plot is nonexistent and just nothing about this movie even makes sense. Don't waste your time with this one.\"\n",
        "example_review = \"The movie was fantastic! The acting was great and the plot was thrilling. I enjoyed the movie thoroghly and encourage others to watch\"\n",
        "sentiment,score = predict_sentiment(example_review)\n",
        "print(f'Review: {example_review}')\n",
        "print(f'Sentiment: {sentiment}')\n",
        "print(f'Score: {score}')"
      ],
      "metadata": {
        "colab": {
          "base_uri": "https://localhost:8080/"
        },
        "id": "2_auo2wLXa4d",
        "outputId": "9b41db5f-662c-4721-b547-f3a257da4149"
      },
      "execution_count": null,
      "outputs": [
        {
          "output_type": "stream",
          "name": "stdout",
          "text": [
            "1/1 [==============================] - 0s 38ms/step\n",
            "Review: The movie was fantastic! The acting was great and the plot was thrilling. I enjoyed the movie thoroghly and encourage others to watch\n",
            "Sentiment: positive\n",
            "Score: 0.9184115529060364\n"
          ]
        }
      ]
    },
    {
      "cell_type": "code",
      "source": [],
      "metadata": {
        "id": "qz1ijbSgZ2F6"
      },
      "execution_count": null,
      "outputs": []
    }
  ]
}